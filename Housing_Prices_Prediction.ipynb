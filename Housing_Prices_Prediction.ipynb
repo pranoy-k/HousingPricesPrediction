{
 "cells": [
  {
   "cell_type": "markdown",
   "metadata": {},
   "source": [
    "---\n",
    "Some of the important questions here are that\n",
    "1. What are the features present?\n",
    "2. What features can we take account for?\n",
    "3. What should we avoid?\n",
    "---"
   ]
  },
  {
   "cell_type": "markdown",
   "metadata": {},
   "source": [
    "#                                             FindingTheHousePrice"
   ]
  },
  {
   "cell_type": "markdown",
   "metadata": {},
   "source": [
    "The things we need to do:\n",
    "`Todo LIST`\n",
    "* Analyze the dataset\n",
    "* Get started in Tensorflow and start the repositary in Github\n",
    "* Select the features \n",
    "* Start implementing in python  \n"
   ]
  },
  {
   "cell_type": "code",
   "execution_count": 1,
   "metadata": {
    "collapsed": false
   },
   "outputs": [],
   "source": [
    "#import dependencies\n",
    "%matplotlib inline\n",
    "%config InlineBackend.figure_format = 'retina'\n",
    "\n",
    "import numpy as np\n",
    "import pandas as pd\n",
    "import matplotlib.pyplot as plt"
   ]
  },
  {
   "cell_type": "markdown",
   "metadata": {},
   "source": [
    "## Analyze the dataset and remove all redundant features\n",
    "\n",
    "We can use the following url to study how do we do feature selection and dimensionality reduction"
   ]
  },
  {
   "cell_type": "code",
   "execution_count": 16,
   "metadata": {
    "collapsed": false,
    "scrolled": true
   },
   "outputs": [],
   "source": [
    "path1 = 'train.csv'\n",
    "path2 = 'train.csv'\n",
    "\n",
    "train = pd.read_csv(path1)\n",
    "test = pd.read_csv(path2)\n",
    "# houses.describe()"
   ]
  },
  {
   "cell_type": "markdown",
   "metadata": {},
   "source": [
    "Inferences from Describe\n",
    "Describe shows that every variable occurs for only 1460 times\n"
   ]
  },
  {
   "cell_type": "markdown",
   "metadata": {},
   "source": [
    "## Chceking out the data\n",
    "We need to the correllation of each and every varaible with the housing price, this is what my intuition says about the selection of variables . Pearson correlation would be a great start \n",
    "\n",
    "for guessing whether the feature should be selection the methods are\n",
    "\n",
    "1. pearsonr \n",
    "2. plot graph\n",
    "3. check other methods in "
   ]
  },
  {
   "cell_type": "code",
   "execution_count": 3,
   "metadata": {
    "collapsed": false
   },
   "outputs": [],
   "source": [
    "#Because there are categorical variables in the data(As we can see above from the head of the csv file). Dummy Variables in the data set for housing.\n",
    "# So the question is, what are all those variables \n",
    "#f_list = feature_list\n",
    "houses.drop(['Id'], axis = 1,inplace=True)\n",
    "#Creating a list of features. \n",
    "f_list = list(houses)"
   ]
  },
  {
   "cell_type": "code",
   "execution_count": 15,
   "metadata": {
    "collapsed": false
   },
   "outputs": [
    {
     "name": "stdout",
     "output_type": "stream",
     "text": [
      "1460 80\n",
      "0   15\n",
      "1   5\n",
      "2   369\n",
      "3   1073\n",
      "4   2\n",
      "5   3\n",
      "6   4\n",
      "7   4\n",
      "8   2\n",
      "9   5\n",
      "10   3\n",
      "11   25\n",
      "12   9\n",
      "13   8\n",
      "14   5\n",
      "15   8\n",
      "16   10\n",
      "17   9\n",
      "18   112\n",
      "19   61\n",
      "20   6\n",
      "21   8\n",
      "22   15\n",
      "23   16\n",
      "24   5\n",
      "25   335\n",
      "26   4\n",
      "27   5\n",
      "28   6\n",
      "29   5\n",
      "30   5\n",
      "31   5\n",
      "32   7\n",
      "33   637\n",
      "34   7\n",
      "35   144\n",
      "36   780\n",
      "37   721\n",
      "38   6\n",
      "39   5\n",
      "40   2\n",
      "41   6\n",
      "42   753\n",
      "43   417\n",
      "44   24\n",
      "45   861\n",
      "46   4\n",
      "47   3\n",
      "48   4\n",
      "49   3\n",
      "50   8\n",
      "51   4\n",
      "52   4\n",
      "53   12\n",
      "54   7\n",
      "55   4\n",
      "56   6\n",
      "57   7\n",
      "58   178\n",
      "59   4\n",
      "60   5\n",
      "61   441\n",
      "62   6\n",
      "63   6\n",
      "64   3\n",
      "65   274\n",
      "66   202\n",
      "67   120\n",
      "68   20\n",
      "69   76\n",
      "70   8\n",
      "71   4\n",
      "72   5\n",
      "73   5\n",
      "74   21\n",
      "75   12\n",
      "76   5\n",
      "77   9\n",
      "78   6\n",
      "79   663\n"
     ]
    }
   ],
   "source": [
    "f_list\n",
    "n_rows,n_columns = len(f_list), len(houses[f_list[0]])\n",
    "print(n_columns, n_rows)\n",
    "#e_features are error features list, i.e. they set length is not equal to n_columns\n",
    "e_features = set()\n",
    "#Check for the first feature\n",
    "# set(houses[f_list[0]])\n",
    "for i,f in enumerate(f_list):\n",
    "    if (len(list(set(houses[f]))) != n_columns ):\n",
    "        e_features.add(f)\n",
    "        print(i,\" \",len(list(set(houses[f]))))"
   ]
  }
 ],
 "metadata": {
  "kernelspec": {
   "display_name": "Python 3",
   "language": "python",
   "name": "python3"
  },
  "language_info": {
   "codemirror_mode": {
    "name": "ipython",
    "version": 3
   },
   "file_extension": ".py",
   "mimetype": "text/x-python",
   "name": "python",
   "nbconvert_exporter": "python",
   "pygments_lexer": "ipython3",
   "version": "3.6.0"
  }
 },
 "nbformat": 4,
 "nbformat_minor": 2
}
